{
 "cells": [
  {
   "cell_type": "markdown",
   "metadata": {},
   "source": [
    "1.\tGiven an array, check if it contains any duplicates or not.\n",
    "arr = [1, 2, 4, 2, 5, 9]\n",
    "\n"
   ]
  },
  {
   "cell_type": "code",
   "execution_count": 36,
   "metadata": {},
   "outputs": [
    {
     "name": "stdout",
     "output_type": "stream",
     "text": [
      "true\n"
     ]
    }
   ],
   "source": [
    "def duplicate(arr):  \n",
    "    new_value = set(arr)  \n",
    "          \n",
    "    if len(new_value) == len(arr):  \n",
    "        return 'false'  \n",
    "    else:  \n",
    "        return 'true'  \n",
    "              \n",
    "arr = [1,2,4,2,5,9]  \n",
    " \n",
    "print(duplicate(arr))  "
   ]
  },
  {
   "cell_type": "markdown",
   "metadata": {},
   "source": [
    "2.\tGiven an array and an integer k, rotate the array to the right by k steps.\n",
    "arr = [1, 2, 3, 4, 5, 6, 7]\n",
    "k = 3\n"
   ]
  },
  {
   "cell_type": "code",
   "execution_count": 40,
   "metadata": {},
   "outputs": [
    {
     "name": "stdout",
     "output_type": "stream",
     "text": [
      "5 6 7 1 2 3 4 \n",
      "\n"
     ]
    }
   ],
   "source": [
    "# Python3 implementation of right rotation \n",
    "# of an array K number of times\n",
    "\n",
    "# Function to rightRotate array\n",
    "def RightRotate(a, n, k):\n",
    "\n",
    "\t# If rotation is greater \n",
    "\t# than size of array\n",
    "\tk = k % n\n",
    "\n",
    "\tfor i in range(0, n):\n",
    "\n",
    "\t\tif(i < k):\n",
    "\n",
    "\t\t\t# Printing rightmost \n",
    "\t\t\t# kth elements\n",
    "\t\t\tprint(a[n + i - k], end = \" \")\n",
    "\n",
    "\t\telse:\n",
    "\n",
    "\t\t\t# Prints array after\n",
    "\t\t\t# 'k' elements\n",
    "\t\t\tprint(a[i - k], end = \" \")\n",
    "\n",
    "\tprint(\"\\n\")\n",
    "\n",
    "# Driver code\n",
    "Array = [1,2,3,4,5,6,7]\n",
    "N = len(Array)\n",
    "K = 3\n",
    "\t\n",
    "RightRotate(Array, N, K)\n",
    "\n",
    "# This code is contributed by Code_Mech\n"
   ]
  },
  {
   "cell_type": "markdown",
   "metadata": {},
   "source": [
    "3.\tReverse the given array in-place, means without using any extra data structure.\n",
    "arr = [2, 4, 5, 7, 9, 12]\n"
   ]
  },
  {
   "cell_type": "code",
   "execution_count": 47,
   "metadata": {},
   "outputs": [
    {
     "name": "stdout",
     "output_type": "stream",
     "text": [
      "Array is : [2, 4, 5, 7, 9, 12]\n",
      "Resultant new reversed array: [12, 9, 7, 5, 4, 2]\n"
     ]
    }
   ],
   "source": [
    "#The original array\n",
    "arr = [2,4,5,7,9,12]\n",
    "print(\"Array is :\",arr)\n",
    "\n",
    "res = arr[::-1] #reversing using list slicing\n",
    "print(\"Resultant new reversed array:\",res)"
   ]
  },
  {
   "cell_type": "markdown",
   "metadata": {},
   "source": [
    "4.\tGiven an array of integers, find the maximum element in an array\n",
    "arr = [10, 5, 20, 8, 15]\n"
   ]
  },
  {
   "cell_type": "code",
   "execution_count": 48,
   "metadata": {},
   "outputs": [
    {
     "name": "stdout",
     "output_type": "stream",
     "text": [
      "The maximum element is 20\n"
     ]
    }
   ],
   "source": [
    "# maximum element\n",
    "\n",
    "def findMaximum(arr, low, high):\n",
    "\tmax = arr[low]\n",
    "\ti = low\n",
    "\tfor i in range(high+1):\n",
    "\t\tif arr[i] > max:\n",
    "\t\t\tmax = arr[i]\n",
    "\treturn max\n",
    "\n",
    "# Driver program to check above functions */\n",
    "arr = [10,5,20,8,15]\n",
    "n = len(arr)\n",
    "print (\"The maximum element is %d\"%\n",
    "\t\tfindMaximum(arr, 0, n-1))\n",
    "\n",
    "# This code is contributed by Shreyanshi Arun.\n"
   ]
  },
  {
   "cell_type": "markdown",
   "metadata": {},
   "source": [
    "5.\tGiven a sorted array, remove the duplicate element without using any extra data structure.\n",
    "arr = [1, 1, 2, 2, 2, 3, 3, 4, 4, 4, 5, 5]\n"
   ]
  },
  {
   "cell_type": "code",
   "execution_count": 57,
   "metadata": {},
   "outputs": [
    {
     "name": "stdout",
     "output_type": "stream",
     "text": [
      "1 2 3 4 5 "
     ]
    }
   ],
   "source": [
    "def removeDuplicates(arr, n):\n",
    "\n",
    "    if n == 0 or n == 1:\n",
    "        return n\n",
    "\n",
    "    temp = list(range(n))\n",
    "\n",
    "    j = 0\n",
    "    for i in range(0, n-1):\n",
    "\n",
    "        if arr[i] != arr[i+1]:\n",
    "            temp[j] = arr[i]\n",
    "            j += 1\n",
    "\n",
    "    temp[j] = arr[n-1]\n",
    "    j += 1\n",
    "    \n",
    "    for i in range(0, j):\n",
    "        arr[i] = temp[i]\n",
    "\n",
    "    return j\n",
    "\n",
    "arr = [1, 1, 2, 2, 2, 3, 3, 4, 4, 4, 5, 5]\n",
    "n = len(arr)\n",
    "\n",
    "n = removeDuplicates(arr, n)\n",
    "\n",
    "for i in range(n):\n",
    "    print (\"%d\"%(arr[i]), end = \" \")"
   ]
  },
  {
   "cell_type": "code",
   "execution_count": null,
   "metadata": {},
   "outputs": [],
   "source": []
  }
 ],
 "metadata": {
  "kernelspec": {
   "display_name": "Python 3",
   "language": "python",
   "name": "python3"
  },
  "language_info": {
   "codemirror_mode": {
    "name": "ipython",
    "version": 3
   },
   "file_extension": ".py",
   "mimetype": "text/x-python",
   "name": "python",
   "nbconvert_exporter": "python",
   "pygments_lexer": "ipython3",
   "version": "3.11.6"
  }
 },
 "nbformat": 4,
 "nbformat_minor": 2
}
